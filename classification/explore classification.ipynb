{
 "cells": [
  {
   "cell_type": "code",
   "execution_count": 1,
   "metadata": {},
   "outputs": [
    {
     "name": "stdout",
     "output_type": "stream",
     "text": [
      "460 239\n"
     ]
    }
   ],
   "source": [
    "%matplotlib inline\n",
    "\n",
    "from PIL import Image\n",
    "import glob\n",
    "import pandas as pd\n",
    "import matplotlib.pyplot as plt\n",
    "good_pop = glob.glob('../screenshots/good/*.png')\n",
    "\n",
    "bad_pop = glob.glob('../screenshots/bad/*.png')\n",
    "print(len(good_pop), len(bad_pop))"
   ]
  },
  {
   "cell_type": "code",
   "execution_count": 2,
   "metadata": {},
   "outputs": [
    {
     "data": {
      "text/plain": [
       "{'empty_proportion': 0.9937070794753087,\n",
       " 'major_hue': 0.8333333333333334,\n",
       " 'num_colors': 39}"
      ]
     },
     "execution_count": 2,
     "metadata": {},
     "output_type": "execute_result"
    }
   ],
   "source": [
    "from collections import Counter\n",
    "from itertools import product\n",
    "import colorsys\n",
    "def normalize_pixel(pixel, num_color_steps=16):\n",
    "    factor = (256//num_color_steps)\n",
    "    return tuple(factor*(int((c)/factor)) for c in pixel)\n",
    "\n",
    "def extract_features(image, num_channel_values=8):\n",
    "    pixels_array = image.load()\n",
    "    w, h = image.size\n",
    "    \n",
    "    color_counts = Counter(normalize_pixel(pixels_array[x,y],num_channel_values) for x,y in product(range(w), range(h)))\n",
    "    num_pixels = w*h\n",
    "    pixel_freqs = dict()\n",
    "    common_pixel_f = (0,0)\n",
    "    for k,v in color_counts.items():\n",
    "        pixel_freqs.update({str(k):v/num_pixels})\n",
    "        if v > common_pixel_f[1]:\n",
    "            common_pixel = (k,v)\n",
    "#     return pixel_freqs\n",
    "#     print(color_counts.most_common(10))\n",
    "    if len(color_counts) > 1:\n",
    "        major_hue = colorsys.rgb_to_hsv(*(color_counts.most_common(2)[1][0]))[0]\n",
    "    else:\n",
    "        major_hue = colorsys.rgb_to_hsv(*(color_counts.most_common(2)[0][0]))[0]\n",
    "    return {\n",
    "        'num_colors': len(color_counts),\n",
    "        'major_hue': major_hue,\n",
    "        'empty_proportion': color_counts.most_common(1)[0][1]/(w*h),\n",
    "        \n",
    "    }\n",
    "\n",
    "def extract_file(path):\n",
    "    try:\n",
    "        return extract_features(Image.open(path))\n",
    "    except Exception as e:\n",
    "        print(\"Error with path={}\\n{}\".format(path,e))\n",
    "        return None\n",
    "\n",
    "extract_features(Image.open(good_pop[0]))"
   ]
  },
  {
   "cell_type": "code",
   "execution_count": 3,
   "metadata": {},
   "outputs": [],
   "source": [
    "from multiprocessing import Pool\n",
    "import time\n",
    "pool = Pool()"
   ]
  },
  {
   "cell_type": "code",
   "execution_count": 4,
   "metadata": {},
   "outputs": [
    {
     "name": "stdout",
     "output_type": "stream",
     "text": [
      "294.8338255882263\n"
     ]
    },
    {
     "data": {
      "text/html": [
       "<div>\n",
       "<table border=\"1\" class=\"dataframe\">\n",
       "  <thead>\n",
       "    <tr style=\"text-align: right;\">\n",
       "      <th></th>\n",
       "      <th>empty_proportion</th>\n",
       "      <th>major_hue</th>\n",
       "      <th>num_colors</th>\n",
       "    </tr>\n",
       "  </thead>\n",
       "  <tbody>\n",
       "    <tr>\n",
       "      <th>count</th>\n",
       "      <td>239.000000</td>\n",
       "      <td>239.000000</td>\n",
       "      <td>239.000000</td>\n",
       "    </tr>\n",
       "    <tr>\n",
       "      <th>mean</th>\n",
       "      <td>0.983433</td>\n",
       "      <td>0.442503</td>\n",
       "      <td>101.694561</td>\n",
       "    </tr>\n",
       "    <tr>\n",
       "      <th>std</th>\n",
       "      <td>0.015105</td>\n",
       "      <td>0.296501</td>\n",
       "      <td>65.519537</td>\n",
       "    </tr>\n",
       "    <tr>\n",
       "      <th>min</th>\n",
       "      <td>0.940027</td>\n",
       "      <td>0.000000</td>\n",
       "      <td>1.000000</td>\n",
       "    </tr>\n",
       "    <tr>\n",
       "      <th>25%</th>\n",
       "      <td>0.972331</td>\n",
       "      <td>0.166667</td>\n",
       "      <td>38.500000</td>\n",
       "    </tr>\n",
       "    <tr>\n",
       "      <th>50%</th>\n",
       "      <td>0.984789</td>\n",
       "      <td>0.500000</td>\n",
       "      <td>105.000000</td>\n",
       "    </tr>\n",
       "    <tr>\n",
       "      <th>75%</th>\n",
       "      <td>0.997365</td>\n",
       "      <td>0.666667</td>\n",
       "      <td>152.000000</td>\n",
       "    </tr>\n",
       "    <tr>\n",
       "      <th>max</th>\n",
       "      <td>1.000000</td>\n",
       "      <td>0.972222</td>\n",
       "      <td>271.000000</td>\n",
       "    </tr>\n",
       "  </tbody>\n",
       "</table>\n",
       "</div>"
      ],
      "text/plain": [
       "       empty_proportion   major_hue  num_colors\n",
       "count        239.000000  239.000000  239.000000\n",
       "mean           0.983433    0.442503  101.694561\n",
       "std            0.015105    0.296501   65.519537\n",
       "min            0.940027    0.000000    1.000000\n",
       "25%            0.972331    0.166667   38.500000\n",
       "50%            0.984789    0.500000  105.000000\n",
       "75%            0.997365    0.666667  152.000000\n",
       "max            1.000000    0.972222  271.000000"
      ]
     },
     "execution_count": 4,
     "metadata": {},
     "output_type": "execute_result"
    }
   ],
   "source": [
    "ti = time.time()\n",
    "bad_set = list(pool.map(extract_file, bad_pop))\n",
    "tf = time.time()\n",
    "print(tf-ti)\n",
    "bad_frame = pd.DataFrame(bad_set)\n",
    "bad_frame.describe()"
   ]
  },
  {
   "cell_type": "code",
   "execution_count": 5,
   "metadata": {},
   "outputs": [
    {
     "data": {
      "text/plain": [
       "array([[<matplotlib.axes._subplots.AxesSubplot object at 0x7efdd5d091d0>]], dtype=object)"
      ]
     },
     "execution_count": 5,
     "metadata": {},
     "output_type": "execute_result"
    },
    {
     "data": {
      "image/png": "[encoded data removed]",
      "text/plain": [
       "<matplotlib.figure.Figure at 0x7efdd6e88128>"
      ]
     },
     "metadata": {},
     "output_type": "display_data"
    }
   ],
   "source": [
    "bad_frame.hist(column='empty_proportion')"
   ]
  },
  {
   "cell_type": "code",
   "execution_count": 6,
   "metadata": {},
   "outputs": [
    {
     "name": "stdout",
     "output_type": "stream",
     "text": [
      "620.8087868690491\n"
     ]
    },
    {
     "data": {
      "text/html": [
       "<div>\n",
       "<table border=\"1\" class=\"dataframe\">\n",
       "  <thead>\n",
       "    <tr style=\"text-align: right;\">\n",
       "      <th></th>\n",
       "      <th>empty_proportion</th>\n",
       "      <th>major_hue</th>\n",
       "      <th>num_colors</th>\n",
       "    </tr>\n",
       "  </thead>\n",
       "  <tbody>\n",
       "    <tr>\n",
       "      <th>count</th>\n",
       "      <td>460.000000</td>\n",
       "      <td>460.000000</td>\n",
       "      <td>460.000000</td>\n",
       "    </tr>\n",
       "    <tr>\n",
       "      <th>mean</th>\n",
       "      <td>0.989455</td>\n",
       "      <td>0.442941</td>\n",
       "      <td>87.050000</td>\n",
       "    </tr>\n",
       "    <tr>\n",
       "      <th>std</th>\n",
       "      <td>0.006091</td>\n",
       "      <td>0.296414</td>\n",
       "      <td>39.565171</td>\n",
       "    </tr>\n",
       "    <tr>\n",
       "      <th>min</th>\n",
       "      <td>0.961693</td>\n",
       "      <td>0.000000</td>\n",
       "      <td>20.000000</td>\n",
       "    </tr>\n",
       "    <tr>\n",
       "      <th>25%</th>\n",
       "      <td>0.986435</td>\n",
       "      <td>0.166667</td>\n",
       "      <td>56.000000</td>\n",
       "    </tr>\n",
       "    <tr>\n",
       "      <th>50%</th>\n",
       "      <td>0.990604</td>\n",
       "      <td>0.500000</td>\n",
       "      <td>82.000000</td>\n",
       "    </tr>\n",
       "    <tr>\n",
       "      <th>75%</th>\n",
       "      <td>0.994136</td>\n",
       "      <td>0.666667</td>\n",
       "      <td>110.000000</td>\n",
       "    </tr>\n",
       "    <tr>\n",
       "      <th>max</th>\n",
       "      <td>0.998829</td>\n",
       "      <td>0.944444</td>\n",
       "      <td>257.000000</td>\n",
       "    </tr>\n",
       "  </tbody>\n",
       "</table>\n",
       "</div>"
      ],
      "text/plain": [
       "       empty_proportion   major_hue  num_colors\n",
       "count        460.000000  460.000000  460.000000\n",
       "mean           0.989455    0.442941   87.050000\n",
       "std            0.006091    0.296414   39.565171\n",
       "min            0.961693    0.000000   20.000000\n",
       "25%            0.986435    0.166667   56.000000\n",
       "50%            0.990604    0.500000   82.000000\n",
       "75%            0.994136    0.666667  110.000000\n",
       "max            0.998829    0.944444  257.000000"
      ]
     },
     "execution_count": 6,
     "metadata": {},
     "output_type": "execute_result"
    }
   ],
   "source": [
    "ti = time.time()\n",
    "good_set = list(pool.map(extract_file, good_pop))\n",
    "tf = time.time()\n",
    "print(tf-ti)\n",
    "good_frame = pd.DataFrame(good_set)\n",
    "good_frame.describe()"
   ]
  },
  {
   "cell_type": "code",
   "execution_count": 7,
   "metadata": {},
   "outputs": [
    {
     "data": {
      "text/plain": [
       "array([[<matplotlib.axes._subplots.AxesSubplot object at 0x7efdd5b3a908>]], dtype=object)"
      ]
     },
     "execution_count": 7,
     "metadata": {},
     "output_type": "execute_result"
    },
    {
     "data": {
      "image/png": "[encoded data removed]",
      "text/plain": [
       "<matplotlib.figure.Figure at 0x7efdd5d090f0>"
      ]
     },
     "metadata": {},
     "output_type": "display_data"
    }
   ],
   "source": [
    "good_frame.hist(column='empty_proportion')"
   ]
  },
  {
   "cell_type": "code",
   "execution_count": null,
   "metadata": {},
   "outputs": [],
   "source": []
  }
 ],
 "metadata": {
  "kernelspec": {
   "display_name": "Python 3",
   "language": "python",
   "name": "python3"
  },
  "language_info": {
   "codemirror_mode": {
    "name": "ipython",
    "version": 3
   },
   "file_extension": ".py",
   "mimetype": "text/x-python",
   "name": "python",
   "nbconvert_exporter": "python",
   "pygments_lexer": "ipython3",
   "version": "3.5.3"
  }
 },
 "nbformat": 4,
 "nbformat_minor": 2
}
