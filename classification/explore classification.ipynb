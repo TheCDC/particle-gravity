{
 "cells": [
  {
   "cell_type": "code",
   "execution_count": 1,
   "metadata": {},
   "outputs": [
    {
     "name": "stdout",
     "output_type": "stream",
     "text": [
      "460 239\n"
     ]
    }
   ],
   "source": [
    "%matplotlib inline\n",
    "\n",
    "from PIL import Image\n",
    "import glob\n",
    "import pandas as pd\n",
    "import matplotlib.pyplot as plt\n",
    "good_pop = glob.glob('../screenshots/good/*.png')\n",
    "\n",
    "bad_pop = glob.glob('../screenshots/bad/*.png')\n",
    "print(len(good_pop), len(bad_pop))"
   ]
  },
  {
   "cell_type": "code",
   "execution_count": 2,
   "metadata": {},
   "outputs": [
    {
     "data": {
      "text/plain": [
       "{'empty_proportion': 0.9853221450617284,\n",
       " 'major_hue': 0.8333333333333334,\n",
       " 'num_colors': 257}"
      ]
     },
     "execution_count": 2,
     "metadata": {},
     "output_type": "execute_result"
    }
   ],
   "source": [
    "from collections import Counter\n",
    "from itertools import product\n",
    "import colorsys\n",
    "def normalize_pixel(pixel, num_color_steps=16):\n",
    "    factor = (256//num_color_steps)\n",
    "    return tuple(factor*(int((c)/factor)) for c in pixel)\n",
    "\n",
    "def extract_features(image, num_channel_values=8):\n",
    "    pixels_array = image.load()\n",
    "    w, h = image.size\n",
    "    \n",
    "    color_counts = Counter(normalize_pixel(p) for p in image.getdata())\n",
    "    num_pixels = w*h\n",
    "    pixel_freqs = dict()\n",
    "    common_pixel_f = (0,0)\n",
    "    for k,v in color_counts.items():\n",
    "        pixel_freqs.update({str(k):v/num_pixels})\n",
    "        if v > common_pixel_f[1]:\n",
    "            common_pixel = (k,v)\n",
    "#     return pixel_freqs\n",
    "#     print(color_counts.most_common(10))\n",
    "    if len(color_counts) > 1:\n",
    "        major_hue = colorsys.rgb_to_hsv(*(color_counts.most_common(2)[1][0]))[0]\n",
    "    else:\n",
    "        major_hue = colorsys.rgb_to_hsv(*(color_counts.most_common(2)[0][0]))[0]\n",
    "    return {\n",
    "        'num_colors': len(color_counts),\n",
    "        'major_hue': major_hue,\n",
    "        'empty_proportion': color_counts.most_common(1)[0][1]/(w*h),\n",
    "        \n",
    "    }\n",
    "\n",
    "def extract_file(path):\n",
    "    try:\n",
    "        return extract_features(Image.open(path))\n",
    "    except Exception as e:\n",
    "        print(\"Error with path={}\\n{}\".format(path,e))\n",
    "        return None\n",
    "\n",
    "extract_features(Image.open(good_pop[0]))"
   ]
  },
  {
   "cell_type": "code",
   "execution_count": null,
   "metadata": {},
   "outputs": [],
   "source": [
    "from multiprocessing import Pool\n",
    "import time\n",
    "pool = Pool()"
   ]
  },
  {
   "cell_type": "code",
   "execution_count": null,
   "metadata": {},
   "outputs": [],
   "source": [
    "ti = time.time()\n",
    "bad_set = list(pool.map(extract_file, bad_pop))\n",
    "tf = time.time()\n",
    "print(tf-ti)\n",
    "bad_frame = pd.DataFrame(bad_set)\n",
    "bad_frame.describe()"
   ]
  },
  {
   "cell_type": "code",
   "execution_count": null,
   "metadata": {},
   "outputs": [],
   "source": [
    "bad_frame.hist(column='empty_proportion')"
   ]
  },
  {
   "cell_type": "code",
   "execution_count": null,
   "metadata": {},
   "outputs": [],
   "source": [
    "ti = time.time()\n",
    "good_set = list(pool.map(extract_file, good_pop))\n",
    "tf = time.time()\n",
    "print(tf-ti)\n",
    "good_frame = pd.DataFrame(good_set)\n",
    "good_frame.describe()"
   ]
  },
  {
   "cell_type": "code",
   "execution_count": null,
   "metadata": {},
   "outputs": [],
   "source": [
    "good_frame.hist(column='empty_proportion')"
   ]
  },
  {
   "cell_type": "code",
   "execution_count": null,
   "metadata": {},
   "outputs": [],
   "source": []
  }
 ],
 "metadata": {
  "kernelspec": {
   "display_name": "Python 3",
   "language": "python",
   "name": "python3"
  },
  "language_info": {
   "codemirror_mode": {
    "name": "ipython",
    "version": 3
   },
   "file_extension": ".py",
   "mimetype": "text/x-python",
   "name": "python",
   "nbconvert_exporter": "python",
   "pygments_lexer": "ipython3",
   "version": "3.6.3"
  }
 },
 "nbformat": 4,
 "nbformat_minor": 2
}
