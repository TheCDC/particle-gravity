{
 "cells": [
  {
   "cell_type": "code",
   "execution_count": 1,
   "metadata": {},
   "outputs": [
    {
     "name": "stdout",
     "output_type": "stream",
     "text": [
      "330\n"
     ]
    }
   ],
   "source": [
    "from PIL import Image\n",
    "import glob\n",
    "import pandas as pd\n",
    "\n",
    "good_pop = glob.glob('../screenshots/*.png')\n",
    "\n",
    "bad_pop = glob.glob('../screenshots/bad/*.png')\n",
    "print(len(good_pop), len(bad_pop))"
   ]
  },
  {
   "cell_type": "code",
   "execution_count": 2,
   "metadata": {},
   "outputs": [
    {
     "data": {
      "text/plain": [
       "{'empty_proportion': 0.9952068865740741, 'major_hue': 0.5, 'num_colors': 14}"
      ]
     },
     "execution_count": 2,
     "metadata": {},
     "output_type": "execute_result"
    }
   ],
   "source": [
    "from collections import Counter\n",
    "from itertools import product\n",
    "import colorsys\n",
    "def normalize_pixel(pixel, num_color_steps=16):\n",
    "    factor = (256//num_color_steps)\n",
    "    return tuple(factor*(int((c)/factor)) for c in pixel)\n",
    "\n",
    "def extract_features(image, num_channel_values=4):\n",
    "    pixels_array = image.load()\n",
    "    w, h = image.size\n",
    "    \n",
    "    pixels = [normalize_pixel(pixels_array[x,y],num_channel_values) for x,y in product(range(w), range(h))]\n",
    "    color_counts = Counter(pixels)\n",
    "    num_pixels = len(pixels)\n",
    "    pixel_freqs = dict()\n",
    "    common_pixel_f = (0,0)\n",
    "    for k,v in color_counts.items():\n",
    "        pixel_freqs.update({str(k):v/num_pixels})\n",
    "        if v > common_pixel_f[1]:\n",
    "            common_pixel = (k,v)\n",
    "#     return pixel_freqs\n",
    "#     print(color_counts.most_common(10))\n",
    "    if len(color_counts) > 1:\n",
    "        major_hue = colorsys.rgb_to_hsv(*(color_counts.most_common(2)[1][0]))[0]\n",
    "    else:\n",
    "        major_hue = colorsys.rgb_to_hsv(*(color_counts.most_common(2)[0][0]))[0]\n",
    "    return {\n",
    "        'num_colors': len(color_counts),\n",
    "        'major_hue': major_hue,\n",
    "        'empty_proportion': color_counts.most_common(1)[0][1]/(w*h),\n",
    "        \n",
    "    }\n",
    "\n",
    "def extract_file(path):\n",
    "    try:\n",
    "        return extract_features(Image.open(path))\n",
    "    except Exception as e:\n",
    "        print(\"Error with path={}\\n{}\".format(path,e))\n",
    "        return None\n",
    "\n",
    "extract_features(Image.open(good_pop[0]))"
   ]
  },
  {
   "cell_type": "code",
   "execution_count": 3,
   "metadata": {},
   "outputs": [],
   "source": [
    "from multiprocessing import Pool\n",
    "import time\n",
    "pool = Pool()"
   ]
  },
  {
   "cell_type": "code",
   "execution_count": 4,
   "metadata": {},
   "outputs": [
    {
     "name": "stdout",
     "output_type": "stream",
     "text": [
      "269.40669417381287\n"
     ]
    },
    {
     "data": {
      "text/html": [
       "<div>\n",
       "<table border=\"1\" class=\"dataframe\">\n",
       "  <thead>\n",
       "    <tr style=\"text-align: right;\">\n",
       "      <th></th>\n",
       "      <th>empty_proportion</th>\n",
       "      <th>major_hue</th>\n",
       "      <th>num_colors</th>\n",
       "    </tr>\n",
       "  </thead>\n",
       "  <tbody>\n",
       "    <tr>\n",
       "      <th>count</th>\n",
       "      <td>204.000000</td>\n",
       "      <td>204.000000</td>\n",
       "      <td>204.000000</td>\n",
       "    </tr>\n",
       "    <tr>\n",
       "      <th>mean</th>\n",
       "      <td>0.985600</td>\n",
       "      <td>0.354847</td>\n",
       "      <td>28.245098</td>\n",
       "    </tr>\n",
       "    <tr>\n",
       "      <th>std</th>\n",
       "      <td>0.013208</td>\n",
       "      <td>0.306392</td>\n",
       "      <td>12.057282</td>\n",
       "    </tr>\n",
       "    <tr>\n",
       "      <th>min</th>\n",
       "      <td>0.944731</td>\n",
       "      <td>0.000000</td>\n",
       "      <td>1.000000</td>\n",
       "    </tr>\n",
       "    <tr>\n",
       "      <th>25%</th>\n",
       "      <td>0.975260</td>\n",
       "      <td>0.000000</td>\n",
       "      <td>17.000000</td>\n",
       "    </tr>\n",
       "    <tr>\n",
       "      <th>50%</th>\n",
       "      <td>0.986738</td>\n",
       "      <td>0.333333</td>\n",
       "      <td>29.000000</td>\n",
       "    </tr>\n",
       "    <tr>\n",
       "      <th>75%</th>\n",
       "      <td>0.997668</td>\n",
       "      <td>0.666667</td>\n",
       "      <td>38.000000</td>\n",
       "    </tr>\n",
       "    <tr>\n",
       "      <th>max</th>\n",
       "      <td>1.000000</td>\n",
       "      <td>0.916667</td>\n",
       "      <td>54.000000</td>\n",
       "    </tr>\n",
       "  </tbody>\n",
       "</table>\n",
       "</div>"
      ],
      "text/plain": [
       "       empty_proportion   major_hue  num_colors\n",
       "count        204.000000  204.000000  204.000000\n",
       "mean           0.985600    0.354847   28.245098\n",
       "std            0.013208    0.306392   12.057282\n",
       "min            0.944731    0.000000    1.000000\n",
       "25%            0.975260    0.000000   17.000000\n",
       "50%            0.986738    0.333333   29.000000\n",
       "75%            0.997668    0.666667   38.000000\n",
       "max            1.000000    0.916667   54.000000"
      ]
     },
     "execution_count": 4,
     "metadata": {},
     "output_type": "execute_result"
    }
   ],
   "source": [
    "\n",
    "ti = time.time()\n",
    "good_set = list(pool.map(extract_file, bad_pop))\n",
    "tf = time.time()\n",
    "print(tf-ti)\n",
    "frame = pd.DataFrame(good_set)\n",
    "frame.describe()"
   ]
  },
  {
   "cell_type": "code",
   "execution_count": 5,
   "metadata": {},
   "outputs": [
    {
     "name": "stdout",
     "output_type": "stream",
     "text": [
      "442.6141142845154\n"
     ]
    },
    {
     "data": {
      "text/html": [
       "<div>\n",
       "<table border=\"1\" class=\"dataframe\">\n",
       "  <thead>\n",
       "    <tr style=\"text-align: right;\">\n",
       "      <th></th>\n",
       "      <th>empty_proportion</th>\n",
       "      <th>major_hue</th>\n",
       "      <th>num_colors</th>\n",
       "    </tr>\n",
       "  </thead>\n",
       "  <tbody>\n",
       "    <tr>\n",
       "      <th>count</th>\n",
       "      <td>330.000000</td>\n",
       "      <td>330.000000</td>\n",
       "      <td>330.000000</td>\n",
       "    </tr>\n",
       "    <tr>\n",
       "      <th>mean</th>\n",
       "      <td>0.990423</td>\n",
       "      <td>0.396970</td>\n",
       "      <td>27.127273</td>\n",
       "    </tr>\n",
       "    <tr>\n",
       "      <th>std</th>\n",
       "      <td>0.005746</td>\n",
       "      <td>0.295453</td>\n",
       "      <td>8.338699</td>\n",
       "    </tr>\n",
       "    <tr>\n",
       "      <th>min</th>\n",
       "      <td>0.964265</td>\n",
       "      <td>0.000000</td>\n",
       "      <td>9.000000</td>\n",
       "    </tr>\n",
       "    <tr>\n",
       "      <th>25%</th>\n",
       "      <td>0.987812</td>\n",
       "      <td>0.166667</td>\n",
       "      <td>21.000000</td>\n",
       "    </tr>\n",
       "    <tr>\n",
       "      <th>50%</th>\n",
       "      <td>0.991405</td>\n",
       "      <td>0.333333</td>\n",
       "      <td>27.000000</td>\n",
       "    </tr>\n",
       "    <tr>\n",
       "      <th>75%</th>\n",
       "      <td>0.994864</td>\n",
       "      <td>0.666667</td>\n",
       "      <td>33.000000</td>\n",
       "    </tr>\n",
       "    <tr>\n",
       "      <th>max</th>\n",
       "      <td>0.999039</td>\n",
       "      <td>0.916667</td>\n",
       "      <td>53.000000</td>\n",
       "    </tr>\n",
       "  </tbody>\n",
       "</table>\n",
       "</div>"
      ],
      "text/plain": [
       "       empty_proportion   major_hue  num_colors\n",
       "count        330.000000  330.000000  330.000000\n",
       "mean           0.990423    0.396970   27.127273\n",
       "std            0.005746    0.295453    8.338699\n",
       "min            0.964265    0.000000    9.000000\n",
       "25%            0.987812    0.166667   21.000000\n",
       "50%            0.991405    0.333333   27.000000\n",
       "75%            0.994864    0.666667   33.000000\n",
       "max            0.999039    0.916667   53.000000"
      ]
     },
     "execution_count": 5,
     "metadata": {},
     "output_type": "execute_result"
    }
   ],
   "source": [
    "ti = time.time()\n",
    "good_set = list(pool.map(extract_file, good_pop))\n",
    "tf = time.time()\n",
    "print(tf-ti)\n",
    "frame = pd.DataFrame(good_set)\n",
    "frame.describe()"
   ]
  },
  {
   "cell_type": "code",
   "execution_count": null,
   "metadata": {},
   "outputs": [],
   "source": []
  }
 ],
 "metadata": {
  "kernelspec": {
   "display_name": "Python 3",
   "language": "python",
   "name": "python3"
  },
  "language_info": {
   "codemirror_mode": {
    "name": "ipython",
    "version": 3
   },
   "file_extension": ".py",
   "mimetype": "text/x-python",
   "name": "python",
   "nbconvert_exporter": "python",
   "pygments_lexer": "ipython3",
   "version": "3.5.3"
  }
 },
 "nbformat": 4,
 "nbformat_minor": 2
}
